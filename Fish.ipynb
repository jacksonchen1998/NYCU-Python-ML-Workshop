{
  "cells": [
    {
      "cell_type": "markdown",
      "metadata": {
        "id": "rkXYkgqewYJ2"
      },
      "source": [
        "## 專題簡介\n",
        "\n",
        "我們小組的專題為釣魚人，本專題為透過 python 呈現\n",
        "出一款小遊戲，供使用者透過輸入 x 座標和 y 座標開始\n",
        "遊戲，因為遊戲過程中會使用到直角坐標平面的概念，\n",
        "所以一邊遊玩當中，可以更了解座標平面的知識。\n",
        "\n",
        "與過去使用一般的課程教學來理解此概念相比之下，利\n",
        "用遊戲的方式更能引起使用者的學習動機，雖然每一次\n",
        "魚出現的地方是隨機的，所以無法透過推論的方式來得\n",
        "到很高的分數，不過使用者會嘗試猜想魚可能出現在哪\n",
        "裡，而思考該將魚網撒在哪裡，可以捕獲最多條魚，在思考過程中會使用到座標平面的想法，非常適合國中一年級的學生遊玩！\n"
      ]
    },
    {
      "cell_type": "code",
      "execution_count": null,
      "metadata": {
        "id": "ydWj_L2PQr0n"
      },
      "outputs": [],
      "source": [
        "import random\n",
        "import numpy as np\n",
        "import matplotlib.pyplot as plt\n",
        "from sys import exit"
      ]
    },
    {
      "cell_type": "markdown",
      "metadata": {
        "id": "kAWHFDp3wIM3"
      },
      "source": [
        "## 產生魚頭座標/魚隻方向\n",
        "開始遊戲前，系統會基於均勻離散分佈產生魚頭座標，而魚的方向會遵從白努力分佈。"
      ]
    },
    {
      "cell_type": "code",
      "execution_count": null,
      "metadata": {
        "id": "W3aF7Ao_Rb1e"
      },
      "outputs": [],
      "source": [
        "def fish(size):\n",
        "  start = np.random.randint(-5, 5, 2)\n",
        "  dir = np.random.binomial(1, 0.5, 1)\n",
        "  if dir == 1:\n",
        "   x = np.repeat(start[0], size).astype(str)\n",
        "   y = np.arange(start[1], start[1] + size, 1).astype(str)\n",
        "  else:\n",
        "    x = np.arange(start[0], start[0] + size, 1).astype(str)\n",
        "    y = np.repeat(start[1], size).astype(str)\n",
        "  return x, y"
      ]
    },
    {
      "cell_type": "markdown",
      "metadata": {
        "id": "gwxUOql8w8KW"
      },
      "source": [
        "## 判斷魚隻是否重疊"
      ]
    },
    {
      "cell_type": "code",
      "execution_count": null,
      "metadata": {
        "id": "25uqy9KAa3eJ"
      },
      "outputs": [],
      "source": [
        "def debug(f1, f2):\n",
        "  debug = [] \n",
        "  for i in range(f1[0].shape[0]):\n",
        "    for j in range(f2[0].shape[0]):\n",
        "      if (f2[0][j] == f1[0][i]) and (f2[1][j] == f1[1][i]):\n",
        "        debug.append(\"1\")\n",
        "      else:\n",
        "        debug.append(\"0\")\n",
        "  return debug"
      ]
    },
    {
      "cell_type": "code",
      "execution_count": null,
      "metadata": {
        "id": "T-dBzFjKXKCk"
      },
      "outputs": [],
      "source": [
        "fish1 = fish(5)\n",
        "fish2 = fish(4)\n",
        "while('1' in debug(fish1, fish2)):\n",
        "  fish2 = fish(4)\n",
        "\n",
        "fish3 = fish(3)\n",
        "while(('1' in debug(fish1, fish3)) or ('1' in debug(fish2, fish3))):\n",
        "  fish3 = fish(3)\n",
        "\n",
        "fish4 = fish(3)\n",
        "while(('1' in debug(fish1, fish4)) or ('1' in debug(fish2, fish4)) or ('1' in debug(fish3, fish4))):\n",
        "  fish4 = fish(3)\n",
        "\n",
        "fish5 = fish(2)\n",
        "while(('1' in debug(fish1, fish5)) or ('1' in debug(fish2, fish5)) or ('1' in debug(fish3, fish5)) or ('1' in debug(fish4, fish5))):\n",
        "  fish5 = fish(2)"
      ]
    },
    {
      "cell_type": "markdown",
      "metadata": {
        "id": "g3qnZv9YxN3b"
      },
      "source": [
        "## 輸出魚隻位置並顯示在圖表上"
      ]
    },
    {
      "cell_type": "code",
      "execution_count": null,
      "metadata": {
        "colab": {
          "base_uri": "https://localhost:8080/",
          "height": 282
        },
        "id": "F21T9mcseeam",
        "outputId": "489644df-d46d-4c7c-8535-8c1c5c0d2e6f"
      },
      "outputs": [],
      "source": [
        "plt.plot(fish1[0], fish1[1])\n",
        "plt.plot(fish2[0], fish2[1])\n",
        "plt.plot(fish3[0], fish3[1])\n",
        "plt.plot(fish4[0], fish4[1])\n",
        "plt.plot(fish5[0], fish5[1])"
      ]
    },
    {
      "cell_type": "code",
      "execution_count": null,
      "metadata": {
        "colab": {
          "base_uri": "https://localhost:8080/"
        },
        "id": "0UdwfYK5vhEK",
        "outputId": "b477bcd3-4ac6-4943-9103-7698983f2d85"
      },
      "outputs": [],
      "source": [
        "print(fish1[0]) #第一隻魚的x座標 #type是numpy.ndarray\n",
        "print(fish1[1]) #第一隻魚的y座標 #type是numpy.ndarray\n",
        "\n",
        "print(fish2[0]) #第二隻魚的x座標 #type是numpy.ndarray\n",
        "print(fish2[1]) #第二隻魚的y座標 #type是numpy.ndarray\n",
        "\n",
        "print(fish3[0]) #第三隻魚的x座標 #type是numpy.ndarray\n",
        "print(fish3[1]) #第三隻魚的y座標 #type是numpy.ndarray\n",
        "\n",
        "print(fish4[0]) #第四隻魚的x座標 #type是numpy.ndarray\n",
        "print(fish4[1]) #第四隻魚的y座標 #type是numpy.ndarray\n",
        "\n",
        "print(fish5[0]) #第五隻魚的x座標 #type是numpy.ndarray\n",
        "print(fish5[1]) #第五隻魚的y座標 #type是numpy.ndarray"
      ]
    },
    {
      "cell_type": "markdown",
      "metadata": {
        "id": "bYqPW3CVxaXD"
      },
      "source": [
        "## 遊戲預設項"
      ]
    },
    {
      "cell_type": "code",
      "execution_count": null,
      "metadata": {
        "id": "KNjHtZ9Q0YvG"
      },
      "outputs": [],
      "source": [
        "#找出所有x,y座標的最大最小值\n",
        "M=int(max(list(fish1[0])+list(fish1[1])+list(fish2[0])+list(fish2[1])+list(fish3[0])+list(fish3[1])+list(fish4[0])+list(fish4[1])+list(fish5[0])+list(fish5[1])))\n",
        "m=int(min(list(fish1[0])+list(fish1[1])+list(fish2[0])+list(fish2[1])+list(fish3[0])+list(fish3[1])+list(fish4[0])+list(fish4[1])+list(fish5[0])+list(fish5[1])))"
      ]
    },
    {
      "cell_type": "code",
      "execution_count": null,
      "metadata": {
        "id": "Q4WPSl1U0b6s"
      },
      "outputs": [],
      "source": [
        "Mx=int(max(list(fish1[0])+list(fish2[0])+list(fish3[0])+list(fish4[0])+list(fish5[0]))) #x座標最大值\n",
        "mx=int(min(list(fish1[0])+list(fish2[0])+list(fish3[0])+list(fish4[0])+list(fish5[0]))) #x座標最小值\n",
        "My=int(max(list(fish1[1])+list(fish2[1])+list(fish3[1])+list(fish4[1])+list(fish5[1]))) #y座標最大值\n",
        "my=int(min(list(fish1[1])+list(fish2[1])+list(fish3[1])+list(fish4[1])+list(fish5[1]))) #y座標最小值"
      ]
    },
    {
      "cell_type": "code",
      "execution_count": null,
      "metadata": {
        "id": "SmGC5G1oDYzJ"
      },
      "outputs": [],
      "source": [
        "global checklist\n",
        "checklist = [\"Unknown\", \"Unknown\", \"Unknown\", \"Unknown\", \"Unknown\"] # 判斷是否猜中\n",
        "count = 5 # 還可以猜幾次\n",
        "score = 0 # 分數\n",
        "index = 0 # 操作次數"
      ]
    },
    {
      "cell_type": "code",
      "execution_count": null,
      "metadata": {
        "id": "mQWpd4r2uH4a"
      },
      "outputs": [],
      "source": [
        "def plot_fish():\n",
        "  plt.title('Pool graph')\n",
        "  if checklist[0] == \"GOTCHA!\":\n",
        "    plt.scatter(fish1[0], fish1[1], marker = 'x', alpha=0.4, color=\"red\", label='fish1')\n",
        "  if checklist[1] == \"GOTCHA!\":\n",
        "    plt.scatter(fish2[0], fish2[1], marker = 'x', alpha=0.4, color=\"blue\", label='fish2')\n",
        "  if checklist[2] == \"GOTCHA!\":\n",
        "    plt.scatter(fish3[0], fish3[1], marker = 'x', alpha=0.4, color=\"green\", label='fish3')\n",
        "  if checklist[3] == \"GOTCHA!\":\n",
        "    plt.scatter(fish4[0], fish4[1], marker = 'x', alpha=0.4, color=\"gray\", label='fish4')\n",
        "  if checklist[4] == \"GOTCHA!\":\n",
        "    plt.scatter(fish5[0], fish5[1], marker = 'x', alpha=0.4, color=\"black\", label='fish5')\n",
        "  plt.legend()\n",
        "  plt.show()\n",
        "  "
      ]
    },
    {
      "cell_type": "markdown",
      "metadata": {
        "id": "lBTkc7d6xiX1"
      },
      "source": [
        "## 計分方式\n",
        "\n",
        "* 預設為零分，可以猜 5 次\n",
        "* 計分標準依照(次數 * 50)累加\n",
        "* 若猜中則次數不減，且次數加一次\n",
        "* 若沒猜中或猜中以猜中之魚隻，則次數減一\n",
        "* 遊戲結束直至次數歸零或全猜中魚隻位置\n",
        "* 每次皆會輸出剩餘可猜次數以及當前魚隻資訊 (Uknown or not)"
      ]
    },
    {
      "cell_type": "code",
      "execution_count": null,
      "metadata": {
        "id": "0tqMb2nCuLKl"
      },
      "outputs": [],
      "source": [
        "def score_cal(answer, fish_idx):\n",
        "  global count, score\n",
        "  if answer == False and count >= 3: # 若猜錯則會輸出剩餘可猜次數\n",
        "    print(checklist)\n",
        "    count -= 1\n",
        "    print(\"Still has {} chances\".format(count)) # 只剩一次機會時\n",
        "  elif answer == False and count == 2:\n",
        "    print(checklist)\n",
        "    count -= 1\n",
        "    print(\"Only the last chance !!!\")\n",
        "  elif answer == True:\n",
        "    if checklist[fish_idx] == \"GOTCHA!\": # 猜中已發現魚隻位置\n",
        "      print(checklist)\n",
        "      count -= 1\n",
        "      plot_fish()\n",
        "      print(\"Already found the number {} \\nStill has {} chances\".format(fish_idx, count))\n",
        "    elif checklist[fish_idx] == \"Unknown\": # 猜中未發現魚隻位置\n",
        "      checklist[fish_idx] = \"GOTCHA!\"\n",
        "      score += count * 50\n",
        "      count += 1\n",
        "      print(checklist)\n",
        "      plot_fish()\n",
        "      print(\"Great! You found the number {}, and your score turns into {}. \\\n",
        "       \\nStill has {} chances.\".format(fish_idx, score, count))"
      ]
    },
    {
      "cell_type": "markdown",
      "metadata": {
        "id": "ZwOgIezlxxVg"
      },
      "source": [
        "## 開始遊戲"
      ]
    },
    {
      "cell_type": "code",
      "execution_count": null,
      "metadata": {
        "colab": {
          "base_uri": "https://localhost:8080/",
          "height": 1000
        },
        "id": "JfN7TGq9_gjN",
        "outputId": "638fd9ce-9075-4f3f-a817-6cffb89285d0"
      },
      "outputs": [],
      "source": [
        "import matplotlib.ticker as ticker\n",
        "\n",
        "while (\"Unknown\" in checklist): \n",
        "  index += 1\n",
        "  print(\"-\" * 50)\n",
        "  print(\"Index: {}\".format(index))\n",
        "  \n",
        "  plt.figure(figsize = (6, 4.5), dpi = 100)                 # 設定圖片尺寸\n",
        "  plt.grid(color = 'gray', linestyle = '--', linewidth = 0.3)  # 設定格線顏色、種類、寬度\n",
        "  plt.axis([m, M, m, M]) #設定x, y 軸起點到終點座標\n",
        "\n",
        "  #m=int(m)\n",
        "  #M=int(M)\n",
        "\n",
        "  # 繪圖並設定線條顏色、寬度、圖例\n",
        "  plt.xticks(np.arange(m, M, 1)) #設定x軸網格間隔為1\n",
        "  plt.yticks(np.arange(m, M, 1)) #設定y軸網格間隔為1\n",
        "  plt.plot(0, 0, color = 'black',linestyle = '-', linewidth = 1 )  \n",
        "  plt.axhline(y=0,xmin=mx,xmax=Mx,color='black',linestyle='-',linewidth=0.5)\n",
        "  plt.axvline(x=0,ymin=my,ymax=My,color='black',linestyle='-',linewidth=0.5)\n",
        "\n",
        "  x = input(\"Please input x-coordinate: \")\n",
        "  y = input(\"Please input y-coordinate: \")\n",
        "  print()\n",
        "  print(\"Result: \")\n",
        "\n",
        "  if ((x in fish1[0]) and (y in fish1[1])):\n",
        "    score_cal(True, 0)\n",
        "  elif((x in fish2[0]) and (y in fish2[1])):\n",
        "    score_cal(True, 1)\n",
        "  elif((x in fish3[0]) and (y in fish3[1])):\n",
        "    score_cal(True, 2)\n",
        "  elif((x in fish4[0]) and (y in fish4[1])):\n",
        "    score_cal(True, 3)\n",
        "  elif((x in fish5[0]) and (y in fish5[1])):\n",
        "    score_cal(True, 4)\n",
        "  elif(count == 1):\n",
        "    exit(\"Game Over!!\")\n",
        "  else:\n",
        "    score_cal(False, None)\n",
        "    plt.close()\n",
        "\n",
        "print()\n",
        "print(\"*\" * 50)\n",
        "print(\"Congratulation!!, your score is {}.\".format(score))\n",
        "print(\"*\" * 50)"
      ]
    }
  ],
  "metadata": {
    "colab": {
      "provenance": []
    },
    "kernelspec": {
      "display_name": "base",
      "language": "python",
      "name": "python3"
    },
    "language_info": {
      "codemirror_mode": {
        "name": "ipython",
        "version": 3
      },
      "file_extension": ".py",
      "mimetype": "text/x-python",
      "name": "python",
      "nbconvert_exporter": "python",
      "pygments_lexer": "ipython3",
      "version": "3.9.12 (main, Apr  5 2022, 06:56:58) \n[GCC 7.5.0]"
    },
    "vscode": {
      "interpreter": {
        "hash": "0e5d4c077e78a0f301883dddc5b62ba5bc72831127a45cdd4c66d70314ea7a4c"
      }
    }
  },
  "nbformat": 4,
  "nbformat_minor": 0
}
