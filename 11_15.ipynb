{
  "cells": [
    {
      "cell_type": "code",
      "execution_count": null,
      "metadata": {
        "id": "OAnfHFeM2Q4Z"
      },
      "outputs": [],
      "source": [
        "print (\"Hello World\")"
      ]
    },
    {
      "cell_type": "code",
      "execution_count": null,
      "metadata": {
        "id": "yMrLUjGm4xTY"
      },
      "outputs": [],
      "source": [
        "num1 = 6.0\n",
        "num2 = 5.0\n",
        "\n",
        "sum = num1 % num2\n",
        "\n",
        "print('The sum of {} and {} is {}'.format(num1, num2, sum))"
      ]
    },
    {
      "cell_type": "code",
      "execution_count": null,
      "metadata": {
        "id": "GsbJ71HMAhRJ"
      },
      "outputs": [],
      "source": [
        "num1 = float(input('Enter first numner: '))\n",
        "num2 = float(input('Enter second numner: '))\n",
        "\n",
        "sum = num1 + num2\n",
        "\n",
        "print('The sum of {} and {} is {}'.format(num1, num2, sum))"
      ]
    },
    {
      "cell_type": "code",
      "execution_count": null,
      "metadata": {
        "id": "1_K3PQNEFO69"
      },
      "outputs": [],
      "source": [
        "num = 16\n",
        "\n",
        "num_sqrt = num ** 0.25\n",
        "print(\"The  square root of %.3f is %.2f\" % (num, num_sqrt))"
      ]
    },
    {
      "cell_type": "code",
      "execution_count": null,
      "metadata": {
        "id": "BHT70O3HHJ60"
      },
      "outputs": [],
      "source": [
        "import cmath\n",
        "\n",
        "a = 1\n",
        "b = 5\n",
        "c = 6\n",
        "\n",
        "d = (b**2) - (4*a*c)\n",
        "\n",
        "print('d is {}'.format(d))\n",
        "\n",
        "print('cmath.sqrt is {}'.format(cmath.sqrt(d)))\n",
        "\n",
        "sol1 = (-b-cmath.sqrt(d)) / (2 * a)\n",
        "sol2 = (-a-cmath.sqrt(d)) / (2 * a)\n",
        "\n",
        "print(\"The solution are {} and {}\".format(sol1, sol2))"
      ]
    },
    {
      "cell_type": "code",
      "execution_count": null,
      "metadata": {
        "id": "HQzuZmP8Ixez"
      },
      "outputs": [],
      "source": [
        "score = int(input(\"成績及格判斷系統\"))\n",
        "\n",
        "if score >= 60:\n",
        "  print(\"及格！\")\n",
        "else:\n",
        "  print(\"不及格 QQ\")"
      ]
    },
    {
      "cell_type": "code",
      "execution_count": null,
      "metadata": {
        "id": "0aFiYRGTLKy-"
      },
      "outputs": [],
      "source": [
        "score = int(input(\"成績區間\"))\n",
        "\n",
        "if score >= 90:\n",
        "  print('Grade is: A')\n",
        "elif score >= 80:\n",
        "  print('Grade is: B')\n",
        "elif score >= 70:\n",
        "  print('Grade is: C')\n",
        "elif score >= 60:\n",
        "  print('Grade is: D')\n",
        "else:\n",
        "  print('Grade is: F')"
      ]
    },
    {
      "cell_type": "code",
      "execution_count": null,
      "metadata": {
        "id": "F47v7NdJM4j2"
      },
      "outputs": [],
      "source": [
        "score = int(input(\"成績區間\"))\n",
        "\n",
        "if score > 95:\n",
        "  print('Grade is: A+')\n",
        "elif score >= 90 and score <= 95:\n",
        "  print('Grade is: A')\n",
        "elif score >= 80:\n",
        "  print('Grade is: B')\n",
        "elif score >= 70:\n",
        "  print('Grade is: C')\n",
        "elif score >= 60:\n",
        "  print('Grade is: D')\n",
        "else:\n",
        "  print('Grade is: F')"
      ]
    },
    {
      "cell_type": "code",
      "execution_count": null,
      "metadata": {
        "id": "wnWLo-NKNyta"
      },
      "outputs": [],
      "source": [
        "score = int(input(\"成績區間\"))\n",
        "\n",
        "if score < 0 or score > 100:\n",
        "  print('Error')\n",
        "elif score > 95:\n",
        "  print('Grade is: A+')\n",
        "elif score >= 90 and score <= 95:\n",
        "  print('Grade is: A')\n",
        "elif score >= 80:\n",
        "  print('Grade is: B')\n",
        "elif score >= 70:\n",
        "  print('Grade is: C')\n",
        "elif score >= 60:\n",
        "  print('Grade is: D')\n",
        "else:\n",
        "  print('Grade is: F')"
      ]
    },
    {
      "cell_type": "code",
      "execution_count": null,
      "metadata": {
        "id": "tUgaS6XSPCTa"
      },
      "outputs": [],
      "source": [
        "for i in range(5):\n",
        "  print('i is {}'.format(i))\n",
        "  score = int(input(\"成績區間\"))\n",
        "  if score < 0 or score > 100:\n",
        "    print('Error')\n",
        "  elif score > 95:\n",
        "    print('Grade is: A+')\n",
        "  elif score >= 90 and score <= 95:\n",
        "    print('Grade is: A')\n",
        "  elif score >= 80:\n",
        "    print('Grade is: B')\n",
        "  elif score >= 70:\n",
        "    print('Grade is: C')\n",
        "  elif score >= 60:\n",
        "    print('Grade is: D')\n",
        "  else:\n",
        "    print('Grade is: F')"
      ]
    },
    {
      "cell_type": "code",
      "execution_count": null,
      "metadata": {
        "id": "eiXpBSxTQn3n"
      },
      "outputs": [],
      "source": [
        "for i in range(5):\n",
        "  print('i is {}'.format(i))\n",
        "  score = int(input(\"成績區間\"))\n",
        "  if score < 0 or score > 100:\n",
        "    print('Error')\n",
        "    break\n",
        "  elif score > 95:\n",
        "    print('Grade is: A+')\n",
        "  elif score >= 90 and score <= 95:\n",
        "    print('Grade is: A')\n",
        "  elif score >= 80:\n",
        "    print('Grade is: B')\n",
        "  elif score >= 70:\n",
        "    print('Grade is: C')\n",
        "  elif score >= 60:\n",
        "    print('Grade is: D')\n",
        "  else:\n",
        "    print('Grade is: F')"
      ]
    },
    {
      "cell_type": "code",
      "execution_count": null,
      "metadata": {
        "id": "FlzWjJCFQ-Cw"
      },
      "outputs": [],
      "source": [
        "from google.colab import drive\n",
        "drive.mount('/content/drive')\n",
        "\n",
        "import csv\n",
        "import string\n",
        "\n",
        "text = open('drive/MyDrive/python/file.txt').read()\n",
        "print(text)"
      ]
    },
    {
      "cell_type": "code",
      "execution_count": null,
      "metadata": {
        "id": "14Jy7TDbSRSS"
      },
      "outputs": [],
      "source": [
        "test = 'I eat apple today, it taste good. \\n'"
      ]
    },
    {
      "cell_type": "code",
      "execution_count": null,
      "metadata": {
        "id": "2nA0ExyfSgxX"
      },
      "outputs": [],
      "source": [
        "test_1 = test.replace(',', '')\n",
        "print(test)\n",
        "print(test_1)"
      ]
    },
    {
      "cell_type": "code",
      "execution_count": null,
      "metadata": {
        "id": "E90Va64VSpSQ"
      },
      "outputs": [],
      "source": [
        "test_2 = test.strip()\n",
        "print(test)\n",
        "print(test_2)"
      ]
    },
    {
      "cell_type": "markdown",
      "metadata": {
        "id": "qJqLywOaTcCs"
      },
      "source": [
        "<h1>Task1"
      ]
    },
    {
      "cell_type": "code",
      "execution_count": null,
      "metadata": {
        "id": "TegvzvdZTW8g"
      },
      "outputs": [],
      "source": [
        "len1 = float(input(\"Please input a number: \"))\n",
        "len2 = float(input(\"Please input a number: \"))\n",
        "len3 = float(input(\"Please input a number: \"))\n",
        "s = (len1 + len2 + len3) / 2\n",
        "print(\"Area will be {}\".format(cmath.sqrt(s * (s - len1) * (s - len2) * (s - len3))))"
      ]
    },
    {
      "cell_type": "markdown",
      "metadata": {
        "id": "EB3wkPp6TiQD"
      },
      "source": [
        "<h1>Task2"
      ]
    },
    {
      "cell_type": "code",
      "execution_count": null,
      "metadata": {
        "id": "e3Pk9rCpTjly"
      },
      "outputs": [],
      "source": [
        "count = {}\n",
        "\n",
        "context = open('drive/MyDrive/python/file.txt').read().split()\n",
        "\n",
        "for i, v in enumerate(context):\n",
        "    if \",\" in v:\n",
        "        context[i] = v.replace(\",\", \"\")\n",
        "    if \".\" in v:\n",
        "        context[i] = v.replace(\".\", \"\")\n",
        "\n",
        "for w in context:\n",
        "    if w in count:\n",
        "        count[w] += 1\n",
        "    else:\n",
        "        count[w] = 1\n",
        "for word, times in count.items():\n",
        "    print (\"{} : {}\".format(word, times))"
      ]
    },
    {
      "cell_type": "markdown",
      "metadata": {
        "id": "tkYHEGVvTjv3"
      },
      "source": [
        "<h1>Task3"
      ]
    },
    {
      "cell_type": "code",
      "execution_count": null,
      "metadata": {
        "id": "3hUyRi7uTlaE"
      },
      "outputs": [],
      "source": [
        "import random\n",
        "secret = random.randint(1,50)\n",
        "\n",
        "while (True):\n",
        "  answer = int(input(\"Guess a number between 1 and 50: \"))\n",
        "  if secret > answer:\n",
        "    print(\"You need to guess higher. Try again\")\n",
        "  elif secret < answer:\n",
        "    print(\"You need to guess lower. Try again\")\n",
        "  else:\n",
        "    print(\"You guessed the number correctly\")\n",
        "    break"
      ]
    }
  ],
  "metadata": {
    "colab": {
      "provenance": []
    },
    "kernelspec": {
      "display_name": "Python 3",
      "language": "python",
      "name": "python3"
    },
    "language_info": {
      "name": "python",
      "version": "3.10.6 (main, Nov 14 2022, 16:10:14) [GCC 11.3.0]"
    },
    "vscode": {
      "interpreter": {
        "hash": "916dbcbb3f70747c44a77c7bcd40155683ae19c65e1c03b4aa3499c5328201f1"
      }
    }
  },
  "nbformat": 4,
  "nbformat_minor": 0
}
