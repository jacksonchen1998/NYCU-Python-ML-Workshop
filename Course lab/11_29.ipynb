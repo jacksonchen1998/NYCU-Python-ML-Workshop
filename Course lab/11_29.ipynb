{
  "cells": [
    {
      "cell_type": "code",
      "execution_count": null,
      "metadata": {
        "colab": {
          "base_uri": "https://localhost:8080/"
        },
        "id": "6eSjRFrTdzYc",
        "outputId": "68d0018a-c06c-4074-a10c-503a49499d38"
      },
      "outputs": [],
      "source": [
        "!pip install yfinance"
      ]
    },
    {
      "cell_type": "code",
      "execution_count": null,
      "metadata": {
        "colab": {
          "base_uri": "https://localhost:8080/"
        },
        "id": "GccqOsfsmcco",
        "outputId": "ec58daab-b731-42b4-e8a7-66ee509c541f"
      },
      "outputs": [],
      "source": [
        "!pip install talib-binary"
      ]
    },
    {
      "cell_type": "code",
      "execution_count": null,
      "metadata": {
        "colab": {
          "base_uri": "https://localhost:8080/",
          "height": 857
        },
        "id": "F1vLhfxh88fl",
        "outputId": "4cffeb2f-9c5f-457f-f73c-0f2e68de9a09"
      },
      "outputs": [],
      "source": [
        "#取得歷史報價並畫圖\n",
        "def get_data(stock,start,end):\n",
        "    #加入取得報價的套件\n",
        "    import yfinance as yf\n",
        "    \n",
        "    #歷史報價存入df(查詢標的,開始時間,結束時間)\n",
        "    df = yf.download(stock,start,end,interval = \"1d\").dropna()#download data from yahoo\n",
        "    #interval=1m,2m,5m,15m,30m,60m,90m,1h,1d,5d,1wk,1mo,3mo\n",
        "    #period=1d,5d,1mo,3mo,6mo,1y,2y,5y,10y,ytd,max\n",
        "    \n",
        "    #畫圖\n",
        "    import matplotlib.pyplot as plt\n",
        "    %matplotlib inline\n",
        "    plt.figure(figsize=(20,5))\n",
        "    plt.title(stock+' Adj Close')\n",
        "    plt.plot(df['Adj Close'])\n",
        "    plt.show()\n",
        "    \n",
        "    return df\n",
        "\n",
        "#整理資料與增加複雜度\n",
        "def sort_data(df):\n",
        "    df['Open'] = df.Open\n",
        "    df['High'] = df.High\n",
        "    df['percent_change'] = df['Close'].pct_change()\n",
        "    #df['std_5'] = df['percent_change'].rolling(5).std()\n",
        "    #df['ret_5'] = df['percent_change'].rolling(5).mean()\n",
        "    #df.dropna(inplace=True)\n",
        "    return df\n",
        "\n",
        "def split_data(df):\n",
        "    #label\n",
        "    # X is the input variable\n",
        "    X = df[['Open', 'High', 'Adj Close', 'Volume']]\n",
        "\n",
        "    # Y is the target or output variable\n",
        "    y = np.where(df['percent_change'].shift(-1) > 0, 1, 0)\n",
        "    #y = np.where(df['Close'].shift(-1) > df['Close'], 1, 0)\n",
        "\n",
        "    #分割訓練組跟測試組\n",
        "    from sklearn.model_selection import train_test_split\n",
        "    X_train, X_test, y_train, y_test = train_test_split(X, y, test_size = 0.25, random_state = 0)\n",
        "    print(X_train.shape, X_test.shape)\n",
        "    print(y_train.shape, y_test.shape)\n",
        "    return X_train, X_test, y_train, y_test\n",
        "\n",
        "def DecisionTreeClassifier(X_train, X_test, y_train, y_test):\n",
        "    from sklearn.tree import DecisionTreeClassifier\n",
        "    from sklearn.ensemble import RandomForestClassifier\n",
        "    #clf = RandomForestClassifier(n_estimators=1000, random_state=10, n_jobs=-1, min_samples_leaf = 5)\n",
        "    # Create the model on train dataset\n",
        "\n",
        "    # Decision Tree\n",
        "    clf = DecisionTreeClassifier(criterion='entropy', random_state=0, max_depth=10)\n",
        "\n",
        "    model = clf.fit(X_train, y_train)\n",
        "    y_pre = clf.predict(X_test)\n",
        "    \n",
        "    from sklearn.metrics import classification_report\n",
        "    report = classification_report(y_test, y_pre)\n",
        "    print(report)\n",
        "    print('DecisionTreeClassifier')\n",
        "    return y_test, y_pre\n",
        "\n",
        "def auc_roc(y_test, y_pre):  \n",
        "    from sklearn import metrics\n",
        "    # 績效\n",
        "    fpr, tpr, thresholds = metrics.roc_curve(y_test, y_pre)\n",
        "    auc = metrics.auc(fpr, tpr)\n",
        "    print(auc)\n",
        "    import matplotlib.pyplot as plt\n",
        "    \n",
        "    plt.plot(fpr,tpr,label=\"decision tree, auc=\"+str(auc),color='blue')\n",
        "    plt.title(\"ROC\")\n",
        "    plt.xlabel('False Positive Rate')\n",
        "    plt.ylabel('True Positive Rate')\n",
        "    plt.legend(loc=4)\n",
        "    plt.show()\n",
        "    \n",
        "import numpy as np\n",
        "import pandas as pd\n",
        "stock='^TWII'#股票種類\n",
        "df=get_data(stock,'2010-04-27','2021-04-27')#取得歷史報價並畫圖\n",
        "df=sort_data(df)\n",
        "df.head(10)\n",
        "X_train, X_test, y_train, y_test=split_data(df)\n",
        "y_test_RF, y_pre_RF=DecisionTreeClassifier(X_train, X_test, y_train, y_test)\n",
        "\n",
        "auc_roc(y_test, y_pre_RF)"
      ]
    }
  ],
  "metadata": {
    "colab": {
      "provenance": []
    },
    "kernelspec": {
      "display_name": "Python 3",
      "language": "python",
      "name": "python3"
    },
    "language_info": {
      "name": "python",
      "version": "3.10.6 (main, Nov 14 2022, 16:10:14) [GCC 11.3.0]"
    },
    "vscode": {
      "interpreter": {
        "hash": "916dbcbb3f70747c44a77c7bcd40155683ae19c65e1c03b4aa3499c5328201f1"
      }
    }
  },
  "nbformat": 4,
  "nbformat_minor": 0
}
