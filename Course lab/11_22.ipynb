{
  "cells": [
    {
      "cell_type": "markdown",
      "metadata": {
        "id": "kqYvYdGXZR1A"
      },
      "source": [
        "1. 可輸入表單並且存成csv (例如可分別輸入 身高、體重、日期 並存成CSV，要有title&value)"
      ]
    },
    {
      "cell_type": "code",
      "execution_count": null,
      "metadata": {
        "colab": {
          "base_uri": "https://localhost:8080/"
        },
        "id": "LiRccJt_ZPTo",
        "outputId": "2c0234f7-662a-454b-9962-8e20ba4c6dfc"
      },
      "outputs": [],
      "source": [
        "import csv\n",
        "\n",
        "#@title Personal Information\n",
        "\n",
        "header = ['name', 'email', 'phone']\n",
        "\n",
        "name = \"Mary\" #@param {type:\"string\"}\n",
        "email = \"present90308@gmail.com\" #@param {type:\"string\"}\n",
        "phone = \"0983885976\" #@param {type:\"string\"}\n",
        "\n",
        "info = [name, email, phone]\n",
        "\n",
        "with open('peronal.csv', 'w', encoding='UTF8', newline='') as file:\n",
        "  writer = csv.writer(file)\n",
        "  writer.writerow(header)\n",
        "  writer.writerow(info)\n",
        "  file.close()\n",
        "\n",
        "print(\"Name: \", name)\n",
        "print(\"Email: \", email)\n",
        "print(\"Phone: \", phone)"
      ]
    },
    {
      "cell_type": "markdown",
      "metadata": {
        "id": "KOdwAJiSZX96"
      },
      "source": [
        "2. 讀csv，計算N日平均\n",
        "    * N要可輸入\n",
        "    * 找出最大最小值"
      ]
    },
    {
      "cell_type": "code",
      "execution_count": null,
      "metadata": {
        "colab": {
          "base_uri": "https://localhost:8080/"
        },
        "id": "3C9hRiiBxOwT",
        "outputId": "995c0f4a-fcac-4a96-c320-5c6947eaa350"
      },
      "outputs": [],
      "source": [
        "from pandas import *\n",
        "\n",
        "dataset = read_csv(\"stock_file.csv\")\n",
        "\n",
        "number = int(input(\"Please input a number called N: \"))\n",
        "\n",
        "data = list(dataset.Close[0: number])\n",
        "\n",
        "print(\"Mean: {}\".format(sum(data) / number))\n",
        "print(\"Maximum: {}\".format(max(data)))\n",
        "print(\"Minimum: {}\".format(min(data)))"
      ]
    },
    {
      "cell_type": "code",
      "execution_count": null,
      "metadata": {
        "colab": {
          "base_uri": "https://localhost:8080/"
        },
        "id": "kl6Gv7b5ZZ6g",
        "outputId": "4cf6d65a-20ee-446a-fe90-fc73f337619f"
      },
      "outputs": [],
      "source": [
        "!pip install TA-Lib"
      ]
    },
    {
      "cell_type": "code",
      "execution_count": null,
      "metadata": {
        "colab": {
          "base_uri": "https://localhost:8080/"
        },
        "id": "plNdnYk8_QE7",
        "outputId": "f7368804-9de3-4460-fb19-270b8b08df3a"
      },
      "outputs": [],
      "source": [
        "!pip install mplfinance"
      ]
    },
    {
      "cell_type": "markdown",
      "metadata": {
        "id": "PIJmoPmcZbVK"
      },
      "source": [
        "3. 讀csv，畫出K線圖 (每日收盤價)"
      ]
    },
    {
      "cell_type": "code",
      "execution_count": null,
      "metadata": {
        "colab": {
          "base_uri": "https://localhost:8080/",
          "height": 238
        },
        "id": "shj0d2cpU6m4",
        "outputId": "b9ac3a7b-58a4-43e0-9535-cb7ec370f570"
      },
      "outputs": [],
      "source": [
        "import mplfinance as mpf\n",
        "\n",
        "stock_yahoo = read_csv('stock_file.csv')\n",
        "stock_yahoo['Date'] = to_datetime(stock_yahoo['Date'], format='%Y-%m-%d')\n",
        "stock_yahoo.set_index('Date', inplace=True)\n",
        "stock_yahoo.head()"
      ]
    },
    {
      "cell_type": "code",
      "execution_count": null,
      "metadata": {
        "colab": {
          "base_uri": "https://localhost:8080/"
        },
        "id": "r45e_TfaRGkO",
        "outputId": "a3d87210-c2cc-481b-c97e-d0bccb8732f8"
      },
      "outputs": [],
      "source": [
        "test = dataset[0: number]\n",
        "test['Date'] = to_datetime(test['Date'], format='%Y-%m-%d')\n",
        "test.set_index('Date', inplace=True)"
      ]
    },
    {
      "cell_type": "code",
      "execution_count": null,
      "metadata": {
        "colab": {
          "base_uri": "https://localhost:8080/",
          "height": 560
        },
        "id": "GnKc8hOHPRqf",
        "outputId": "960cf371-98e2-4924-db03-127f803fafc9"
      },
      "outputs": [],
      "source": [
        "mpf.plot(test,\n",
        "         type='candle',\n",
        "         style='yahoo',\n",
        "         title='Yahoo stock')"
      ]
    },
    {
      "cell_type": "markdown",
      "metadata": {
        "id": "VhHzDnGoZe2A"
      },
      "source": [
        "4. 計算好的五日平均線，疊上3."
      ]
    },
    {
      "cell_type": "code",
      "execution_count": null,
      "metadata": {
        "colab": {
          "base_uri": "https://localhost:8080/",
          "height": 560
        },
        "id": "xj0q6I35Zgan",
        "outputId": "a9dcb9ef-eb62-48a4-a802-57b675144d85"
      },
      "outputs": [],
      "source": [
        "mpf.plot(test,\n",
        "         type='candle',\n",
        "         mav = (2),\n",
        "         style='yahoo',\n",
        "         title='Yahoo stock')"
      ]
    },
    {
      "cell_type": "markdown",
      "metadata": {
        "id": "8MAhW7fWZhzA"
      },
      "source": [
        "5. 偵測出低點與高點 (進階)"
      ]
    },
    {
      "cell_type": "code",
      "execution_count": null,
      "metadata": {
        "colab": {
          "base_uri": "https://localhost:8080/",
          "height": 612
        },
        "id": "9ONG8NLHZifU",
        "outputId": "0ec55ed3-5300-4bf5-b184-39e2dcd9ec6e"
      },
      "outputs": [],
      "source": [
        "apdict = mpf.make_addplot(test['High'], type='scatter', markersize=200, marker='^')\n",
        "apdict2 = mpf.make_addplot(test['Low'], type='scatter', markersize=200, marker='v')\n",
        "\n",
        "mpf.plot(test,\n",
        "         type=\"candle\", \n",
        "         title='Yahoo stock',\n",
        "         style=\"yahoo\", \n",
        "         mav = (2),\n",
        "         returnfig=True,\n",
        "         show_nontrading=False,\n",
        "         addplot=apdict)"
      ]
    },
    {
      "cell_type": "code",
      "execution_count": null,
      "metadata": {
        "colab": {
          "base_uri": "https://localhost:8080/",
          "height": 612
        },
        "id": "YYFWG12dcNED",
        "outputId": "6bda413a-91f9-481c-ad49-1f7de0abc43f"
      },
      "outputs": [],
      "source": [
        "mpf.plot(test,\n",
        "         type=\"candle\", \n",
        "         title='Yahoo stock',\n",
        "         style=\"yahoo\", \n",
        "         mav = (2),\n",
        "         returnfig=True,\n",
        "         show_nontrading=False,\n",
        "         addplot=apdict2)"
      ]
    }
  ],
  "metadata": {
    "colab": {
      "provenance": []
    },
    "kernelspec": {
      "display_name": "Python 3",
      "language": "python",
      "name": "python3"
    },
    "language_info": {
      "name": "python",
      "version": "3.10.6 (main, Nov 14 2022, 16:10:14) [GCC 11.3.0]"
    },
    "vscode": {
      "interpreter": {
        "hash": "916dbcbb3f70747c44a77c7bcd40155683ae19c65e1c03b4aa3499c5328201f1"
      }
    }
  },
  "nbformat": 4,
  "nbformat_minor": 0
}
